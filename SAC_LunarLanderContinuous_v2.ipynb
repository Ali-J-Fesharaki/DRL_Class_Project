{
  "cells": [
    {
      "cell_type": "markdown",
      "metadata": {
        "id": "view-in-github",
        "colab_type": "text"
      },
      "source": [
        "<a href=\"https://colab.research.google.com/github/Ali-J-Fesharaki/DRL_Class_Project/blob/main/SAC_LunarLanderContinuous_v2.ipynb\" target=\"_parent\"><img src=\"https://colab.research.google.com/assets/colab-badge.svg\" alt=\"Open In Colab\"/></a>"
      ]
    },
    {
      "cell_type": "code",
      "execution_count": 1,
      "metadata": {
        "id": "XS9RtsntL4Qi",
        "colab": {
          "base_uri": "https://localhost:8080/"
        },
        "outputId": "deabd153-a8f7-4587-fcc1-532430689f00"
      },
      "outputs": [
        {
          "output_type": "stream",
          "name": "stdout",
          "text": [
            "Reading package lists... Done\n",
            "Building dependency tree... Done\n",
            "Reading state information... Done\n",
            "software-properties-common is already the newest version (0.99.22.9).\n",
            "The following additional packages will be installed:\n",
            "  libegl-dev libgl-dev libgles-dev libgles1 libglu1-mesa libglu1-mesa-dev libglvnd-core-dev\n",
            "  libglvnd-dev libglx-dev libopengl-dev libosmesa6\n",
            "The following NEW packages will be installed:\n",
            "  libegl-dev libgl-dev libgl1-mesa-dev libgl1-mesa-glx libgles-dev libgles1 libglew-dev\n",
            "  libglu1-mesa libglu1-mesa-dev libglvnd-core-dev libglvnd-dev libglx-dev libopengl-dev libosmesa6\n",
            "  libosmesa6-dev\n",
            "0 upgraded, 15 newly installed, 0 to remove and 32 not upgraded.\n",
            "Need to get 3,952 kB of archives.\n",
            "After this operation, 18.7 MB of additional disk space will be used.\n",
            "Get:1 http://archive.ubuntu.com/ubuntu jammy/main amd64 libglx-dev amd64 1.4.0-1 [14.1 kB]\n",
            "Get:2 http://archive.ubuntu.com/ubuntu jammy/main amd64 libgl-dev amd64 1.4.0-1 [101 kB]\n",
            "Get:3 http://archive.ubuntu.com/ubuntu jammy/main amd64 libegl-dev amd64 1.4.0-1 [18.0 kB]\n",
            "Get:4 http://archive.ubuntu.com/ubuntu jammy-updates/universe amd64 libgl1-mesa-glx amd64 23.0.4-0ubuntu1~22.04.1 [5,584 B]\n",
            "Get:5 http://archive.ubuntu.com/ubuntu jammy/main amd64 libgles1 amd64 1.4.0-1 [11.5 kB]\n",
            "Get:6 http://archive.ubuntu.com/ubuntu jammy/main amd64 libgles-dev amd64 1.4.0-1 [49.4 kB]\n",
            "Get:7 http://archive.ubuntu.com/ubuntu jammy/main amd64 libglvnd-core-dev amd64 1.4.0-1 [12.7 kB]\n",
            "Get:8 http://archive.ubuntu.com/ubuntu jammy/main amd64 libopengl-dev amd64 1.4.0-1 [3,400 B]\n",
            "Get:9 http://archive.ubuntu.com/ubuntu jammy/main amd64 libglvnd-dev amd64 1.4.0-1 [3,162 B]\n",
            "Get:10 http://archive.ubuntu.com/ubuntu jammy-updates/main amd64 libgl1-mesa-dev amd64 23.0.4-0ubuntu1~22.04.1 [6,510 B]\n",
            "Get:11 http://archive.ubuntu.com/ubuntu jammy/main amd64 libglu1-mesa amd64 9.0.2-1 [145 kB]\n",
            "Get:12 http://archive.ubuntu.com/ubuntu jammy/main amd64 libglu1-mesa-dev amd64 9.0.2-1 [231 kB]\n",
            "Get:13 http://archive.ubuntu.com/ubuntu jammy/universe amd64 libglew-dev amd64 2.2.0-4 [287 kB]\n",
            "Get:14 http://archive.ubuntu.com/ubuntu jammy-updates/main amd64 libosmesa6 amd64 23.0.4-0ubuntu1~22.04.1 [3,054 kB]\n",
            "Get:15 http://archive.ubuntu.com/ubuntu jammy-updates/main amd64 libosmesa6-dev amd64 23.0.4-0ubuntu1~22.04.1 [8,986 B]\n",
            "Fetched 3,952 kB in 1s (4,647 kB/s)\n",
            "Selecting previously unselected package libglx-dev:amd64.\n",
            "(Reading database ... 121730 files and directories currently installed.)\n",
            "Preparing to unpack .../00-libglx-dev_1.4.0-1_amd64.deb ...\n",
            "Unpacking libglx-dev:amd64 (1.4.0-1) ...\n",
            "Selecting previously unselected package libgl-dev:amd64.\n",
            "Preparing to unpack .../01-libgl-dev_1.4.0-1_amd64.deb ...\n",
            "Unpacking libgl-dev:amd64 (1.4.0-1) ...\n",
            "Selecting previously unselected package libegl-dev:amd64.\n",
            "Preparing to unpack .../02-libegl-dev_1.4.0-1_amd64.deb ...\n",
            "Unpacking libegl-dev:amd64 (1.4.0-1) ...\n",
            "Selecting previously unselected package libgl1-mesa-glx:amd64.\n",
            "Preparing to unpack .../03-libgl1-mesa-glx_23.0.4-0ubuntu1~22.04.1_amd64.deb ...\n",
            "Unpacking libgl1-mesa-glx:amd64 (23.0.4-0ubuntu1~22.04.1) ...\n",
            "Selecting previously unselected package libgles1:amd64.\n",
            "Preparing to unpack .../04-libgles1_1.4.0-1_amd64.deb ...\n",
            "Unpacking libgles1:amd64 (1.4.0-1) ...\n",
            "Selecting previously unselected package libgles-dev:amd64.\n",
            "Preparing to unpack .../05-libgles-dev_1.4.0-1_amd64.deb ...\n",
            "Unpacking libgles-dev:amd64 (1.4.0-1) ...\n",
            "Selecting previously unselected package libglvnd-core-dev:amd64.\n",
            "Preparing to unpack .../06-libglvnd-core-dev_1.4.0-1_amd64.deb ...\n",
            "Unpacking libglvnd-core-dev:amd64 (1.4.0-1) ...\n",
            "Selecting previously unselected package libopengl-dev:amd64.\n",
            "Preparing to unpack .../07-libopengl-dev_1.4.0-1_amd64.deb ...\n",
            "Unpacking libopengl-dev:amd64 (1.4.0-1) ...\n",
            "Selecting previously unselected package libglvnd-dev:amd64.\n",
            "Preparing to unpack .../08-libglvnd-dev_1.4.0-1_amd64.deb ...\n",
            "Unpacking libglvnd-dev:amd64 (1.4.0-1) ...\n",
            "Selecting previously unselected package libgl1-mesa-dev:amd64.\n",
            "Preparing to unpack .../09-libgl1-mesa-dev_23.0.4-0ubuntu1~22.04.1_amd64.deb ...\n",
            "Unpacking libgl1-mesa-dev:amd64 (23.0.4-0ubuntu1~22.04.1) ...\n",
            "Selecting previously unselected package libglu1-mesa:amd64.\n",
            "Preparing to unpack .../10-libglu1-mesa_9.0.2-1_amd64.deb ...\n",
            "Unpacking libglu1-mesa:amd64 (9.0.2-1) ...\n",
            "Selecting previously unselected package libglu1-mesa-dev:amd64.\n",
            "Preparing to unpack .../11-libglu1-mesa-dev_9.0.2-1_amd64.deb ...\n",
            "Unpacking libglu1-mesa-dev:amd64 (9.0.2-1) ...\n",
            "Selecting previously unselected package libglew-dev:amd64.\n",
            "Preparing to unpack .../12-libglew-dev_2.2.0-4_amd64.deb ...\n",
            "Unpacking libglew-dev:amd64 (2.2.0-4) ...\n",
            "Selecting previously unselected package libosmesa6:amd64.\n",
            "Preparing to unpack .../13-libosmesa6_23.0.4-0ubuntu1~22.04.1_amd64.deb ...\n",
            "Unpacking libosmesa6:amd64 (23.0.4-0ubuntu1~22.04.1) ...\n",
            "Selecting previously unselected package libosmesa6-dev:amd64.\n",
            "Preparing to unpack .../14-libosmesa6-dev_23.0.4-0ubuntu1~22.04.1_amd64.deb ...\n",
            "Unpacking libosmesa6-dev:amd64 (23.0.4-0ubuntu1~22.04.1) ...\n",
            "Setting up libglvnd-core-dev:amd64 (1.4.0-1) ...\n",
            "Setting up libgles1:amd64 (1.4.0-1) ...\n",
            "Setting up libgl1-mesa-glx:amd64 (23.0.4-0ubuntu1~22.04.1) ...\n",
            "Setting up libglx-dev:amd64 (1.4.0-1) ...\n",
            "Setting up libglu1-mesa:amd64 (9.0.2-1) ...\n",
            "Setting up libopengl-dev:amd64 (1.4.0-1) ...\n",
            "Setting up libgl-dev:amd64 (1.4.0-1) ...\n",
            "Setting up libosmesa6:amd64 (23.0.4-0ubuntu1~22.04.1) ...\n",
            "Setting up libegl-dev:amd64 (1.4.0-1) ...\n",
            "Setting up libglu1-mesa-dev:amd64 (9.0.2-1) ...\n",
            "Setting up libosmesa6-dev:amd64 (23.0.4-0ubuntu1~22.04.1) ...\n",
            "Setting up libgles-dev:amd64 (1.4.0-1) ...\n",
            "Setting up libglvnd-dev:amd64 (1.4.0-1) ...\n",
            "Setting up libglew-dev:amd64 (2.2.0-4) ...\n",
            "Setting up libgl1-mesa-dev:amd64 (23.0.4-0ubuntu1~22.04.1) ...\n",
            "Processing triggers for libc-bin (2.35-0ubuntu3.4) ...\n",
            "/sbin/ldconfig.real: /usr/local/lib/libtbbmalloc_proxy.so.2 is not a symbolic link\n",
            "\n",
            "/sbin/ldconfig.real: /usr/local/lib/libtbb.so.12 is not a symbolic link\n",
            "\n",
            "/sbin/ldconfig.real: /usr/local/lib/libtbbmalloc.so.2 is not a symbolic link\n",
            "\n",
            "/sbin/ldconfig.real: /usr/local/lib/libtbbbind_2_5.so.3 is not a symbolic link\n",
            "\n",
            "/sbin/ldconfig.real: /usr/local/lib/libtbbbind_2_0.so.3 is not a symbolic link\n",
            "\n",
            "/sbin/ldconfig.real: /usr/local/lib/libtbbbind.so.3 is not a symbolic link\n",
            "\n",
            "Reading package lists... Done\n",
            "Building dependency tree... Done\n",
            "Reading state information... Done\n",
            "The following NEW packages will be installed:\n",
            "  patchelf\n",
            "0 upgraded, 1 newly installed, 0 to remove and 32 not upgraded.\n",
            "Need to get 72.1 kB of archives.\n",
            "After this operation, 186 kB of additional disk space will be used.\n",
            "Get:1 http://archive.ubuntu.com/ubuntu jammy/universe amd64 patchelf amd64 0.14.3-1 [72.1 kB]\n",
            "Fetched 72.1 kB in 0s (209 kB/s)\n",
            "Selecting previously unselected package patchelf.\n",
            "(Reading database ... 121870 files and directories currently installed.)\n",
            "Preparing to unpack .../patchelf_0.14.3-1_amd64.deb ...\n",
            "Unpacking patchelf (0.14.3-1) ...\n",
            "Setting up patchelf (0.14.3-1) ...\n",
            "Processing triggers for man-db (2.10.2-1) ...\n",
            "Collecting free-mujoco-py\n",
            "  Downloading free_mujoco_py-2.1.6-py3-none-any.whl (14.1 MB)\n",
            "\u001b[2K     \u001b[90m━━━━━━━━━━━━━━━━━━━━━━━━━━━━━━━━━━━━━━━━\u001b[0m \u001b[32m14.1/14.1 MB\u001b[0m \u001b[31m80.0 MB/s\u001b[0m eta \u001b[36m0:00:00\u001b[0m\n",
            "\u001b[?25hCollecting Cython<0.30.0,>=0.29.24 (from free-mujoco-py)\n",
            "  Downloading Cython-0.29.37-cp310-cp310-manylinux_2_17_x86_64.manylinux2014_x86_64.manylinux_2_24_x86_64.whl (1.9 MB)\n",
            "\u001b[2K     \u001b[90m━━━━━━━━━━━━━━━━━━━━━━━━━━━━━━━━━━━━━━━━\u001b[0m \u001b[32m1.9/1.9 MB\u001b[0m \u001b[31m87.4 MB/s\u001b[0m eta \u001b[36m0:00:00\u001b[0m\n",
            "\u001b[?25hRequirement already satisfied: cffi<2.0.0,>=1.15.0 in /usr/local/lib/python3.10/dist-packages (from free-mujoco-py) (1.16.0)\n",
            "Collecting fasteners==0.15 (from free-mujoco-py)\n",
            "  Downloading fasteners-0.15-py2.py3-none-any.whl (23 kB)\n",
            "Collecting glfw<2.0.0,>=1.4.0 (from free-mujoco-py)\n",
            "  Downloading glfw-1.12.0-py2.py27.py3.py30.py31.py32.py33.py34.py35.py36.py37.py38-none-manylinux2014_x86_64.whl (203 kB)\n",
            "\u001b[2K     \u001b[90m━━━━━━━━━━━━━━━━━━━━━━━━━━━━━━━━━━━━━━━━\u001b[0m \u001b[32m203.7/203.7 kB\u001b[0m \u001b[31m28.9 MB/s\u001b[0m eta \u001b[36m0:00:00\u001b[0m\n",
            "\u001b[?25hRequirement already satisfied: imageio<3.0.0,>=2.9.0 in /usr/local/lib/python3.10/dist-packages (from free-mujoco-py) (2.31.6)\n",
            "Requirement already satisfied: numpy<2.0.0,>=1.21.3 in /usr/local/lib/python3.10/dist-packages (from free-mujoco-py) (1.23.5)\n",
            "Requirement already satisfied: six in /usr/local/lib/python3.10/dist-packages (from fasteners==0.15->free-mujoco-py) (1.16.0)\n",
            "Collecting monotonic>=0.1 (from fasteners==0.15->free-mujoco-py)\n",
            "  Downloading monotonic-1.6-py2.py3-none-any.whl (8.2 kB)\n",
            "Requirement already satisfied: pycparser in /usr/local/lib/python3.10/dist-packages (from cffi<2.0.0,>=1.15.0->free-mujoco-py) (2.21)\n",
            "Requirement already satisfied: pillow<10.1.0,>=8.3.2 in /usr/local/lib/python3.10/dist-packages (from imageio<3.0.0,>=2.9.0->free-mujoco-py) (9.4.0)\n",
            "Installing collected packages: monotonic, glfw, fasteners, Cython, free-mujoco-py\n",
            "  Attempting uninstall: Cython\n",
            "    Found existing installation: Cython 3.0.8\n",
            "    Uninstalling Cython-3.0.8:\n",
            "      Successfully uninstalled Cython-3.0.8\n",
            "Successfully installed Cython-0.29.37 fasteners-0.15 free-mujoco-py-2.1.6 glfw-1.12.0 monotonic-1.6\n"
          ]
        }
      ],
      "source": [
        "!apt-get install -y \\\n",
        "   libgl1-mesa-dev \\\n",
        "   libgl1-mesa-glx \\\n",
        "   libglew-dev \\\n",
        "   libosmesa6-dev \\\n",
        "   software-properties-common\n",
        "\n",
        "!apt-get install -y patchelf\n",
        "\n",
        "!pip install free-mujoco-py"
      ]
    },
    {
      "cell_type": "code",
      "execution_count": null,
      "metadata": {
        "id": "aenIc0dZKQet"
      },
      "outputs": [],
      "source": [
        "from google.colab import drive\n",
        "drive.mount('/content/drive')\n",
        "%mkdir -p /content/drive/MyDrive/DRL_Project/Part2/\n",
        "%cd /content/drive/MyDrive/DRL_Project/Part2/"
      ]
    },
    {
      "cell_type": "code",
      "execution_count": null,
      "metadata": {
        "id": "KkKoyWUvf5cS"
      },
      "outputs": [],
      "source": [
        "!apt-get update && apt-get install ffmpeg freeglut3-dev xvfb  # For visualization\n",
        "!pip install \"stable-baselines3[extra]>=2.0.0a4\""
      ]
    },
    {
      "cell_type": "code",
      "execution_count": null,
      "metadata": {
        "id": "Om2k5ud4ydZs"
      },
      "outputs": [],
      "source": [
        "from typing import Any, ClassVar, Dict, List, Optional, Tuple, Type, TypeVar, Union\n",
        "\n",
        "import numpy as np\n",
        "import torch as th\n",
        "from gymnasium import spaces\n",
        "from torch.nn import functional as F\n",
        "\n",
        "from stable_baselines3.common.buffers import ReplayBuffer\n",
        "from stable_baselines3.common.noise import ActionNoise\n",
        "from stable_baselines3.common.off_policy_algorithm import OffPolicyAlgorithm\n",
        "from stable_baselines3.common.policies import BasePolicy, ContinuousCritic\n",
        "from stable_baselines3.common.type_aliases import GymEnv, MaybeCallback, Schedule\n",
        "from stable_baselines3.common.utils import get_parameters_by_name, polyak_update\n",
        "from stable_baselines3.sac.policies import Actor, CnnPolicy, MlpPolicy, MultiInputPolicy, SACPolicy\n",
        "\n",
        "SelfSAC = TypeVar(\"SelfSAC\", bound=\"SAC\")\n",
        "\n",
        "\n",
        "class SACWithDynamicEntCoef(OffPolicyAlgorithm):\n",
        "    policy_aliases: ClassVar[Dict[str, Type[BasePolicy]]] = {\n",
        "        \"MlpPolicy\": MlpPolicy,\n",
        "        \"CnnPolicy\": CnnPolicy,\n",
        "        \"MultiInputPolicy\": MultiInputPolicy,\n",
        "    }\n",
        "    policy: SACPolicy\n",
        "    actor: Actor\n",
        "    critic: ContinuousCritic\n",
        "    critic_target: ContinuousCritic\n",
        "\n",
        "    def __init__(\n",
        "        self,\n",
        "        policy: Union[str, Type[SACPolicy]],\n",
        "        env: Union[GymEnv, str],\n",
        "        learning_rate: Union[float, Schedule] = 3e-4,\n",
        "        buffer_size: int = 1_000_000,  # 1e6\n",
        "        learning_starts: int = 100,\n",
        "        batch_size: int = 256,\n",
        "        tau: float = 0.005,\n",
        "        gamma: float = 0.99,\n",
        "        train_freq: Union[int, Tuple[int, str]] = 1,\n",
        "        gradient_steps: int = 1,\n",
        "        action_noise: Optional[ActionNoise] = None,\n",
        "        replay_buffer_class: Optional[Type[ReplayBuffer]] = None,\n",
        "        replay_buffer_kwargs: Optional[Dict[str, Any]] = None,\n",
        "        optimize_memory_usage: bool = False,\n",
        "        ent_coef: Union[str, float] = \"auto\",\n",
        "        decay_ent_coef_type: str=\"linear\",\n",
        "        decay_ent_coef_rate: float=0.999,\n",
        "        target_update_interval: int = 1,\n",
        "        target_entropy: Union[str, float] = \"auto\",\n",
        "        use_sde: bool = False,\n",
        "        sde_sample_freq: int = -1,\n",
        "        use_sde_at_warmup: bool = False,\n",
        "        stats_window_size: int = 100,\n",
        "        tensorboard_log: Optional[str] = None,\n",
        "        policy_kwargs: Optional[Dict[str, Any]] = None,\n",
        "        verbose: int = 0,\n",
        "        seed: Optional[int] = None,\n",
        "        device: Union[th.device, str] = \"auto\",\n",
        "        _init_setup_model: bool = True,\n",
        "    ):\n",
        "        super().__init__(\n",
        "            policy,\n",
        "            env,\n",
        "            learning_rate,\n",
        "            buffer_size,\n",
        "            learning_starts,\n",
        "            batch_size,\n",
        "            tau,\n",
        "            gamma,\n",
        "            train_freq,\n",
        "            gradient_steps,\n",
        "            action_noise,\n",
        "            replay_buffer_class=replay_buffer_class,\n",
        "            replay_buffer_kwargs=replay_buffer_kwargs,\n",
        "            policy_kwargs=policy_kwargs,\n",
        "            stats_window_size=stats_window_size,\n",
        "            tensorboard_log=tensorboard_log,\n",
        "            verbose=verbose,\n",
        "            device=device,\n",
        "            seed=seed,\n",
        "            use_sde=use_sde,\n",
        "            sde_sample_freq=sde_sample_freq,\n",
        "            use_sde_at_warmup=use_sde_at_warmup,\n",
        "            optimize_memory_usage=optimize_memory_usage,\n",
        "            supported_action_spaces=(spaces.Box,),\n",
        "            support_multi_env=True,\n",
        "        )\n",
        "\n",
        "        self.target_entropy = target_entropy\n",
        "        self.log_ent_coef = None\n",
        "        self.ent_coef = ent_coef\n",
        "        self.decay_ent_coef_type = decay_ent_coef_type\n",
        "        self.decay_ent_coef_rate = decay_ent_coef_rate\n",
        "        self.target_update_interval = target_update_interval\n",
        "        self.ent_coef_optimizer: Optional[th.optim.Adam] = None\n",
        "\n",
        "        if _init_setup_model:\n",
        "            self._setup_model()\n",
        "\n",
        "    def _setup_model(self) -> None:\n",
        "        super()._setup_model()\n",
        "        self._create_aliases()\n",
        "        self.batch_norm_stats = get_parameters_by_name(self.critic, [\"running_\"])\n",
        "        self.batch_norm_stats_target = get_parameters_by_name(self.critic_target, [\"running_\"])\n",
        "        if self.target_entropy == \"auto\":\n",
        "            self.target_entropy = float(-np.prod(self.env.action_space.shape).astype(np.float32))\n",
        "        else:\n",
        "            self.target_entropy = float(self.target_entropy)\n",
        "\n",
        "        if isinstance(self.ent_coef, str) and self.ent_coef.startswith(\"auto\"):\n",
        "            init_value = 1.0\n",
        "            if \"_\" in self.ent_coef:\n",
        "                init_value = float(self.ent_coef.split(\"_\")[1])\n",
        "                assert init_value > 0.0, \"The initial value of ent_coef must be greater than 0\"\n",
        "\n",
        "            self.log_ent_coef = th.log(th.ones(1, device=self.device) * init_value).requires_grad_(True)\n",
        "            self.ent_coef_optimizer = th.optim.Adam([self.log_ent_coef], lr=self.lr_schedule(1))\n",
        "        else:\n",
        "            self.ent_coef_tensor = th.tensor(float(self.ent_coef), device=self.device)\n",
        "\n",
        "    def _create_aliases(self) -> None:\n",
        "        self.actor = self.policy.actor\n",
        "        self.critic = self.policy.critic\n",
        "        self.critic_target = self.policy.critic_target\n",
        "\n",
        "    def _compute_ent_coef(self):\n",
        "        if self.decay_ent_coef_type == \"linear\":\n",
        "            initial_value = self.ent_coef\n",
        "            decrease_rate = self.decay_ent_coef_rate\n",
        "            min_value = 1/ self._total_timesteps\n",
        "            ent_coef = max(initial_value - decrease_rate * (self._n_updates+1), min_value)\n",
        "\n",
        "            self.ent_coef_tensor = th.tensor(float(ent_coef), device=self.device)\n",
        "        elif self.decay_ent_coef_type == \"exponential\":\n",
        "            self.ent_coef = self.decay_ent_coef_rate*self.ent_coef\n",
        "            self.ent_coef_tensor = th.tensor(float(self.ent_coef), device=self.device)\n",
        "\n",
        "        else:\n",
        "            raise NotImplementedError(f\"Unknown type of ent_coef decay {self.decay_ent_coef}\")\n",
        "\n",
        "    def train(self, gradient_steps: int, batch_size: int = 64) -> None:\n",
        "        self.policy.set_training_mode(True)\n",
        "        optimizers = [self.actor.optimizer, self.critic.optimizer]\n",
        "        if self.ent_coef_optimizer is not None:\n",
        "            optimizers += [self.ent_coef_optimizer]\n",
        "\n",
        "        self._update_learning_rate(optimizers)\n",
        "\n",
        "        ent_coef_losses, ent_coefs = [], []\n",
        "        actor_losses, critic_losses = [], []\n",
        "        for gradient_step in range(gradient_steps):\n",
        "            replay_data = self.replay_buffer.sample(batch_size, env=self._vec_normalize_env)\n",
        "\n",
        "            if self.use_sde:\n",
        "                self.actor.reset_noise()\n",
        "\n",
        "            actions_pi, log_prob = self.actor.action_log_prob(replay_data.observations)\n",
        "            log_prob = log_prob.reshape(-1, 1)\n",
        "\n",
        "\n",
        "            self._compute_ent_coef()\n",
        "            ent_coef = self.ent_coef_tensor\n",
        "            ent_coefs.append(ent_coef.item())\n",
        "            with th.no_grad():\n",
        "                next_actions, next_log_prob = self.actor.action_log_prob(replay_data.next_observations)\n",
        "                next_q_values = th.cat(self.critic_target(replay_data.next_observations, next_actions), dim=1)\n",
        "                next_q_values, _ = th.min(next_q_values, dim=1, keepdim=True)\n",
        "                next_q_values = next_q_values - ent_coef * next_log_prob.reshape(-1, 1)\n",
        "                target_q_values = replay_data.rewards + (1 - replay_data.dones) * self.gamma * next_q_values\n",
        "\n",
        "            current_q_values = self.critic(replay_data.observations, replay_data.actions)\n",
        "\n",
        "            critic_loss = 0.5 * sum(F.mse_loss(current_q, target_q_values) for current_q in current_q_values)\n",
        "            assert isinstance(critic_loss, th.Tensor)\n",
        "            critic_losses.append(critic_loss.item())\n",
        "\n",
        "            self.critic.optimizer.zero_grad()\n",
        "            critic_loss.backward()\n",
        "            self.critic.optimizer.step()\n",
        "\n",
        "            q_values_pi = th.cat(self.critic(replay_data.observations, actions_pi), dim=1)\n",
        "            min_qf_pi, _ = th.min(q_values_pi, dim=1, keepdim=True)\n",
        "            actor_loss = (ent_coef * log_prob - min_qf_pi).mean()\n",
        "            actor_losses.append(actor_loss.item())\n",
        "\n",
        "            self.actor.optimizer.zero_grad()\n",
        "            actor_loss.backward()\n",
        "            self.actor.optimizer.step()\n",
        "\n",
        "            if gradient_step % self.target_update_interval == 0:\n",
        "                polyak_update(self.critic.parameters(), self.critic_target.parameters(), self.tau)\n",
        "                polyak_update(self.batch_norm_stats, self.batch_norm_stats_target, 1.0)\n",
        "\n",
        "        self._n_updates += gradient_steps\n",
        "\n",
        "        self.logger.record(\"train/n_updates\", self._n_updates, exclude=\"tensorboard\")\n",
        "        self.logger.record(\"train/ent_coef\", np.mean(ent_coefs))\n",
        "        self.logger.record(\"train/actor_loss\", np.mean(actor_losses))\n",
        "        self.logger.record(\"train/critic_loss\", np.mean(critic_losses))\n",
        "        if len(ent_coef_losses) > 0:\n",
        "            self.logger.record(\"train/ent_coef_loss\", np.mean(ent_coef_losses))\n",
        "\n",
        "    def learn(\n",
        "        self: SelfSAC,\n",
        "        total_timesteps: int,\n",
        "        callback: MaybeCallback = None,\n",
        "        log_interval: int = 4,\n",
        "        tb_log_name: str = \"SAC\",\n",
        "        reset_num_timesteps: bool = True,\n",
        "        progress_bar: bool = False,\n",
        "    ) -> SelfSAC:\n",
        "        return super().learn(\n",
        "            total_timesteps=total_timesteps,\n",
        "            callback=callback,\n",
        "            log_interval=log_interval,\n",
        "            tb_log_name=tb_log_name,\n",
        "            reset_num_timesteps=reset_num_timesteps,\n",
        "            progress_bar=progress_bar,\n",
        "        )\n",
        "\n",
        "    def _excluded_save_params(self) -> List[str]:\n",
        "        return super()._excluded_save_params() + [\"actor\", \"critic\", \"critic_target\"]\n",
        "\n",
        "    def _get_torch_save_params(self) -> Tuple[List[str], List[str]]:\n",
        "        state_dicts = [\"policy\", \"actor.optimizer\", \"critic.optimizer\"]\n",
        "        if self.ent_coef_optimizer is not None:\n",
        "            saved_pytorch_variables = [\"log_ent_coef\"]\n",
        "            state_dicts.append(\"ent_coef_optimizer\")\n",
        "        else:\n",
        "            saved_pytorch_variables = [\"ent_coef_tensor\"]\n",
        "        return state_dicts, saved_pytorch_variables\n"
      ]
    },
    {
      "cell_type": "code",
      "execution_count": null,
      "metadata": {
        "colab": {
          "base_uri": "https://localhost:8080/",
          "height": 64
        },
        "id": "BIedd7Pz9sOs",
        "outputId": "3aba0aa3-95eb-4494-854d-a9d9f5bd6f62"
      },
      "outputs": [
        {
          "data": {
            "text/html": [
              "<pre style=\"white-space:pre;overflow-x:auto;line-height:normal;font-family:Menlo,'DejaVu Sans Mono',consolas,'Courier New',monospace\"><span style=\"color: #800080; text-decoration-color: #800080\"> 100%</span> <span style=\"color: #f92672; text-decoration-color: #f92672\">━━━━━━━━━━━━━━━━━━━━━━━━━━━━━━━━━━━━━━━━━━━━━━━━━━━━━━━━╸</span> <span style=\"color: #008000; text-decoration-color: #008000\">999,996/1,000,000 </span> [ <span style=\"color: #808000; text-decoration-color: #808000\">1:31:49</span> &lt; <span style=\"color: #008080; text-decoration-color: #008080\">0:00:01</span> , <span style=\"color: #800000; text-decoration-color: #800000\">237 it/s</span> ]\n",
              "</pre>\n"
            ],
            "text/plain": [
              "\u001b[35m 100%\u001b[0m \u001b[38;2;249;38;114m━━━━━━━━━━━━━━━━━━━━━━━━━━━━━━━━━━━━━━━━━━━━━━━━━━━━━━━━\u001b[0m\u001b[38;2;249;38;114m╸\u001b[0m \u001b[32m999,996/1,000,000 \u001b[0m [ \u001b[33m1:31:49\u001b[0m < \u001b[36m0:00:01\u001b[0m , \u001b[31m237 it/s\u001b[0m ]\n"
            ]
          },
          "metadata": {},
          "output_type": "display_data"
        },
        {
          "data": {
            "text/html": [
              "<pre style=\"white-space:pre;overflow-x:auto;line-height:normal;font-family:Menlo,'DejaVu Sans Mono',consolas,'Courier New',monospace\">New best mean reward!\n",
              "</pre>\n"
            ],
            "text/plain": [
              "New best mean reward!\n"
            ]
          },
          "metadata": {},
          "output_type": "display_data"
        },
        {
          "data": {
            "text/html": [
              "<pre style=\"white-space:pre;overflow-x:auto;line-height:normal;font-family:Menlo,'DejaVu Sans Mono',consolas,'Courier New',monospace\"></pre>\n"
            ],
            "text/plain": []
          },
          "metadata": {},
          "output_type": "display_data"
        },
        {
          "data": {
            "text/html": [
              "<pre style=\"white-space:pre;overflow-x:auto;line-height:normal;font-family:Menlo,'DejaVu Sans Mono',consolas,'Courier New',monospace\">\n",
              "</pre>\n"
            ],
            "text/plain": [
              "\n"
            ]
          },
          "metadata": {},
          "output_type": "display_data"
        }
      ],
      "source": [
        "from stable_baselines3.common.env_util import make_vec_env\n",
        "from stable_baselines3.common.evaluation import evaluate_policy\n",
        "from stable_baselines3.common.callbacks import EvalCallback\n",
        "import math\n",
        "import torch\n",
        "total_timesteps = 1000000\n",
        "n_envs=4\n",
        "base_log_dir = \"./train_logs/\"\n",
        "dev = torch.device(\"cuda\")\n",
        "# Environments\n",
        "env_names = [ \"Ant-v2\" ]\n",
        "\n",
        "for env_name in env_names:\n",
        "    # Create the environment\n",
        "    env = make_vec_env(env_name, n_envs=n_envs)\n",
        "\n",
        "    # Linear decay\n",
        "    model_linear = SACWithDynamicEntCoef(\n",
        "        \"MlpPolicy\",\n",
        "        env,\n",
        "        ent_coef=1,\n",
        "        tensorboard_log=f\"{base_log_dir}/{env_name}_linear\",  # Include environment name\n",
        "        decay_ent_coef_type=\"linear\",\n",
        "        decay_ent_coef_rate=n_envs*(1/total_timesteps)\n",
        "    )\n",
        "    n_training_envs = 1 # adjust eval freq depending on the number of training envs\n",
        "    # Evaluate the model every 1000 steps on 5 test episodes and save the evaluation to the logs folder\n",
        "    eval_callback = EvalCallback(env, eval_freq=10000 // n_training_envs, n_eval_episodes=50, log_path=(f\"./logs/{env_name}_linear\"))\n",
        "    model_linear.learn(total_timesteps=total_timesteps, log_interval=1, progress_bar=True,callback=eval_callback)\n",
        "    model_linear.save(f\"SAC_dyn_ent_coef_{env_name}_linear\")\n",
        "    #/////////////////////////////////////////////////////////////////////////////////////////////\n",
        "\n",
        "for env_name in env_names:\n",
        "    env = make_vec_env(env_name, n_envs=n_envs)\n",
        "    # exponential decay\n",
        "    model_exp = SACWithDynamicEntCoef(\n",
        "        \"MlpPolicy\",\n",
        "        env,\n",
        "        ent_coef=1,\n",
        "        tensorboard_log=f\"{base_log_dir}/{env_name}_exponential\",  # Include environment name\n",
        "        decay_ent_coef_type=\"exponential\",\n",
        "        decay_ent_coef_rate=math.pow((1-(1/total_timesteps)),(n_envs*math.log(total_timesteps)))\n",
        "    )\n",
        "    n_training_envs = 1 # adjust eval freq depending on the number of training envs\n",
        "    # Evaluate the model every 1000 steps on 5 test episodes and save the evaluation to the logs folder\n",
        "    eval_callback = EvalCallback(env, eval_freq=10000 // n_training_envs, n_eval_episodes=50, log_path=(f\"./logs/{env_name}_exponential\"))\n",
        "    model_exp.learn(total_timesteps=total_timesteps, log_interval=1, progress_bar=True,callback=eval_callback)\n",
        "    model_exp.save(f\"sac_custom_ent_coef_{env_name}_exponential\")"
      ]
    },
    {
      "cell_type": "code",
      "execution_count": null,
      "metadata": {
        "colab": {
          "background_save": true,
          "base_uri": "https://localhost:8080/",
          "height": 512
        },
        "id": "7Jhb5oAWoKa0",
        "outputId": "2ca70b7a-a4db-4ed7-d08c-c19b8cbd8f69"
      },
      "outputs": [
        {
          "data": {
            "text/html": [
              "<pre style=\"white-space:pre;overflow-x:auto;line-height:normal;font-family:Menlo,'DejaVu Sans Mono',consolas,'Courier New',monospace\">  File \"&lt;__array_function__ internals&gt;\", line 180, in savez\n",
              "</pre>\n"
            ],
            "text/plain": [
              "  File \"<__array_function__ internals>\", line 180, in savez\n"
            ]
          },
          "metadata": {},
          "output_type": "display_data"
        },
        {
          "data": {
            "text/html": [
              "<pre style=\"white-space:pre;overflow-x:auto;line-height:normal;font-family:Menlo,'DejaVu Sans Mono',consolas,'Courier New',monospace\">  File \"/usr/local/lib/python3.10/dist-packages/numpy/lib/npyio.py\", line 615, in savez\n",
              "    _savez(file, args, kwds, False)\n",
              "</pre>\n"
            ],
            "text/plain": [
              "  File \"/usr/local/lib/python3.10/dist-packages/numpy/lib/npyio.py\", line 615, in savez\n",
              "    _savez(file, args, kwds, False)\n"
            ]
          },
          "metadata": {},
          "output_type": "display_data"
        },
        {
          "data": {
            "text/html": [
              "<pre style=\"white-space:pre;overflow-x:auto;line-height:normal;font-family:Menlo,'DejaVu Sans Mono',consolas,'Courier New',monospace\">  File \"/usr/local/lib/python3.10/dist-packages/numpy/lib/npyio.py\", line 712, in _savez\n",
              "    zipf = zipfile_factory(file, mode=\"w\", compression=compression)\n",
              "</pre>\n"
            ],
            "text/plain": [
              "  File \"/usr/local/lib/python3.10/dist-packages/numpy/lib/npyio.py\", line 712, in _savez\n",
              "    zipf = zipfile_factory(file, mode=\"w\", compression=compression)\n"
            ]
          },
          "metadata": {},
          "output_type": "display_data"
        },
        {
          "data": {
            "text/html": [
              "<pre style=\"white-space:pre;overflow-x:auto;line-height:normal;font-family:Menlo,'DejaVu Sans Mono',consolas,'Courier New',monospace\">  File \"/usr/local/lib/python3.10/dist-packages/numpy/lib/npyio.py\", line 103, in zipfile_factory\n",
              "    return zipfile.ZipFile(file, *args, **kwargs)\n",
              "</pre>\n"
            ],
            "text/plain": [
              "  File \"/usr/local/lib/python3.10/dist-packages/numpy/lib/npyio.py\", line 103, in zipfile_factory\n",
              "    return zipfile.ZipFile(file, *args, **kwargs)\n"
            ]
          },
          "metadata": {},
          "output_type": "display_data"
        },
        {
          "data": {
            "text/html": [
              "<pre style=\"white-space:pre;overflow-x:auto;line-height:normal;font-family:Menlo,'DejaVu Sans Mono',consolas,'Courier New',monospace\">  File \"/usr/lib/python3.10/zipfile.py\", line 1251, in __init__\n",
              "    self.fp = io.open(file, filemode)\n",
              "</pre>\n"
            ],
            "text/plain": [
              "  File \"/usr/lib/python3.10/zipfile.py\", line 1251, in __init__\n",
              "    self.fp = io.open(file, filemode)\n"
            ]
          },
          "metadata": {},
          "output_type": "display_data"
        },
        {
          "data": {
            "text/html": [
              "<pre style=\"white-space:pre;overflow-x:auto;line-height:normal;font-family:Menlo,'DejaVu Sans Mono',consolas,'Courier New',monospace\">OSError: [Errno 107] Transport endpoint is not connected: './logs/Ant-v2_auto/evaluations.npz'\n",
              "</pre>\n"
            ],
            "text/plain": [
              "OSError: [Errno 107] Transport endpoint is not connected: './logs/Ant-v2_auto/evaluations.npz'\n"
            ]
          },
          "metadata": {},
          "output_type": "display_data"
        },
        {
          "data": {
            "text/html": [
              "<pre style=\"white-space:pre;overflow-x:auto;line-height:normal;font-family:Menlo,'DejaVu Sans Mono',consolas,'Courier New',monospace\">\n",
              "During handling of the above exception, another exception occurred:\n",
              "\n",
              "</pre>\n"
            ],
            "text/plain": [
              "\n",
              "During handling of the above exception, another exception occurred:\n",
              "\n"
            ]
          },
          "metadata": {},
          "output_type": "display_data"
        },
        {
          "data": {
            "text/html": [
              "<pre style=\"white-space:pre;overflow-x:auto;line-height:normal;font-family:Menlo,'DejaVu Sans Mono',consolas,'Courier New',monospace\">Traceback (most recent call last):\n",
              "</pre>\n"
            ],
            "text/plain": [
              "Traceback (most recent call last):\n"
            ]
          },
          "metadata": {},
          "output_type": "display_data"
        },
        {
          "data": {
            "text/html": [
              "<pre style=\"white-space:pre;overflow-x:auto;line-height:normal;font-family:Menlo,'DejaVu Sans Mono',consolas,'Courier New',monospace\">  File \"/usr/local/lib/python3.10/dist-packages/IPython/core/interactiveshell.py\", line 2099, in showtraceback\n",
              "    stb = value._render_traceback_()\n",
              "</pre>\n"
            ],
            "text/plain": [
              "  File \"/usr/local/lib/python3.10/dist-packages/IPython/core/interactiveshell.py\", line 2099, in showtraceback\n",
              "    stb = value._render_traceback_()\n"
            ]
          },
          "metadata": {},
          "output_type": "display_data"
        },
        {
          "data": {
            "text/html": [
              "<pre style=\"white-space:pre;overflow-x:auto;line-height:normal;font-family:Menlo,'DejaVu Sans Mono',consolas,'Courier New',monospace\">AttributeError: 'OSError' object has no attribute '_render_traceback_'\n",
              "</pre>\n"
            ],
            "text/plain": [
              "AttributeError: 'OSError' object has no attribute '_render_traceback_'\n"
            ]
          },
          "metadata": {},
          "output_type": "display_data"
        },
        {
          "data": {
            "text/html": [
              "<pre style=\"white-space:pre;overflow-x:auto;line-height:normal;font-family:Menlo,'DejaVu Sans Mono',consolas,'Courier New',monospace\">\n",
              "During handling of the above exception, another exception occurred:\n",
              "\n",
              "</pre>\n"
            ],
            "text/plain": [
              "\n",
              "During handling of the above exception, another exception occurred:\n",
              "\n"
            ]
          },
          "metadata": {},
          "output_type": "display_data"
        },
        {
          "data": {
            "text/html": [
              "<pre style=\"white-space:pre;overflow-x:auto;line-height:normal;font-family:Menlo,'DejaVu Sans Mono',consolas,'Courier New',monospace\">Traceback (most recent call last):\n",
              "</pre>\n"
            ],
            "text/plain": [
              "Traceback (most recent call last):\n"
            ]
          },
          "metadata": {},
          "output_type": "display_data"
        },
        {
          "data": {
            "text/html": [
              "<pre style=\"white-space:pre;overflow-x:auto;line-height:normal;font-family:Menlo,'DejaVu Sans Mono',consolas,'Courier New',monospace\"><span style=\"color: #800080; text-decoration-color: #800080\">  48%</span> <span style=\"color: #f92672; text-decoration-color: #f92672\">━━━━━━━━━━━━━━━━━━━━━━━━━━━</span><span style=\"color: #3a3a3a; text-decoration-color: #3a3a3a\">╺━━━━━━━━━━━━━━━━━━━━━━━━━━━━━</span> <span style=\"color: #008000; text-decoration-color: #008000\">479,996/1,000,000 </span> [ <span style=\"color: #808000; text-decoration-color: #808000\">0:47:31</span> &lt; <span style=\"color: #008080; text-decoration-color: #008080\">1:06:15</span> , <span style=\"color: #800000; text-decoration-color: #800000\">131 it/s</span> ]\n",
              "</pre>\n"
            ],
            "text/plain": [
              "\u001b[35m  48%\u001b[0m \u001b[38;2;249;38;114m━━━━━━━━━━━━━━━━━━━━━━━━━━━\u001b[0m\u001b[38;5;237m╺\u001b[0m\u001b[38;5;237m━━━━━━━━━━━━━━━━━━━━━━━━━━━━━\u001b[0m \u001b[32m479,996/1,000,000 \u001b[0m [ \u001b[33m0:47:31\u001b[0m < \u001b[36m1:06:15\u001b[0m , \u001b[31m131 it/s\u001b[0m ]\n"
            ]
          },
          "metadata": {},
          "output_type": "display_data"
        },
        {
          "data": {
            "text/html": [
              "<pre style=\"white-space:pre;overflow-x:auto;line-height:normal;font-family:Menlo,'DejaVu Sans Mono',consolas,'Courier New',monospace\">  File \"/usr/local/lib/python3.10/dist-packages/IPython/core/interactiveshell.py\", line 3473, in run_ast_nodes\n",
              "    if (await self.run_code(code, result,  async_=asy)):\n",
              "</pre>\n"
            ],
            "text/plain": [
              "  File \"/usr/local/lib/python3.10/dist-packages/IPython/core/interactiveshell.py\", line 3473, in run_ast_nodes\n",
              "    if (await self.run_code(code, result,  async_=asy)):\n"
            ]
          },
          "metadata": {},
          "output_type": "display_data"
        },
        {
          "data": {
            "text/html": [
              "<pre style=\"white-space:pre;overflow-x:auto;line-height:normal;font-family:Menlo,'DejaVu Sans Mono',consolas,'Courier New',monospace\">  File \"/usr/local/lib/python3.10/dist-packages/IPython/core/interactiveshell.py\", line 3575, in run_code\n",
              "    self.showtraceback(running_compiled_code=True)\n",
              "</pre>\n"
            ],
            "text/plain": [
              "  File \"/usr/local/lib/python3.10/dist-packages/IPython/core/interactiveshell.py\", line 3575, in run_code\n",
              "    self.showtraceback(running_compiled_code=True)\n"
            ]
          },
          "metadata": {},
          "output_type": "display_data"
        },
        {
          "data": {
            "text/html": [
              "<pre style=\"white-space:pre;overflow-x:auto;line-height:normal;font-family:Menlo,'DejaVu Sans Mono',consolas,'Courier New',monospace\">  File \"/usr/local/lib/python3.10/dist-packages/IPython/core/interactiveshell.py\", line 2101, in showtraceback\n",
              "    stb = self.InteractiveTB.structured_traceback(etype,\n",
              "</pre>\n"
            ],
            "text/plain": [
              "  File \"/usr/local/lib/python3.10/dist-packages/IPython/core/interactiveshell.py\", line 2101, in showtraceback\n",
              "    stb = self.InteractiveTB.structured_traceback(etype,\n"
            ]
          },
          "metadata": {},
          "output_type": "display_data"
        },
        {
          "data": {
            "text/html": [
              "<pre style=\"white-space:pre;overflow-x:auto;line-height:normal;font-family:Menlo,'DejaVu Sans Mono',consolas,'Courier New',monospace\">  File \"/usr/local/lib/python3.10/dist-packages/IPython/core/ultratb.py\", line 1367, in structured_traceback\n",
              "    return FormattedTB.structured_traceback(\n",
              "</pre>\n"
            ],
            "text/plain": [
              "  File \"/usr/local/lib/python3.10/dist-packages/IPython/core/ultratb.py\", line 1367, in structured_traceback\n",
              "    return FormattedTB.structured_traceback(\n"
            ]
          },
          "metadata": {},
          "output_type": "display_data"
        },
        {
          "data": {
            "text/html": [
              "<pre style=\"white-space:pre;overflow-x:auto;line-height:normal;font-family:Menlo,'DejaVu Sans Mono',consolas,'Courier New',monospace\">  File \"/usr/local/lib/python3.10/dist-packages/IPython/core/ultratb.py\", line 1267, in structured_traceback\n",
              "    return VerboseTB.structured_traceback(\n",
              "</pre>\n"
            ],
            "text/plain": [
              "  File \"/usr/local/lib/python3.10/dist-packages/IPython/core/ultratb.py\", line 1267, in structured_traceback\n",
              "    return VerboseTB.structured_traceback(\n"
            ]
          },
          "metadata": {},
          "output_type": "display_data"
        },
        {
          "data": {
            "text/html": [
              "<pre style=\"white-space:pre;overflow-x:auto;line-height:normal;font-family:Menlo,'DejaVu Sans Mono',consolas,'Courier New',monospace\">  File \"/usr/local/lib/python3.10/dist-packages/IPython/core/ultratb.py\", line 1124, in structured_traceback\n",
              "    formatted_exception = self.format_exception_as_a_whole(etype, evalue, etb, number_of_lines_of_context,\n",
              "</pre>\n"
            ],
            "text/plain": [
              "  File \"/usr/local/lib/python3.10/dist-packages/IPython/core/ultratb.py\", line 1124, in structured_traceback\n",
              "    formatted_exception = self.format_exception_as_a_whole(etype, evalue, etb, number_of_lines_of_context,\n"
            ]
          },
          "metadata": {},
          "output_type": "display_data"
        },
        {
          "data": {
            "text/html": [
              "<pre style=\"white-space:pre;overflow-x:auto;line-height:normal;font-family:Menlo,'DejaVu Sans Mono',consolas,'Courier New',monospace\">  File \"/usr/local/lib/python3.10/dist-packages/IPython/core/ultratb.py\", line 1082, in format_exception_as_a_whole\n",
              "    last_unique, recursion_repeat = find_recursion(orig_etype, evalue, records)\n",
              "</pre>\n"
            ],
            "text/plain": [
              "  File \"/usr/local/lib/python3.10/dist-packages/IPython/core/ultratb.py\", line 1082, in format_exception_as_a_whole\n",
              "    last_unique, recursion_repeat = find_recursion(orig_etype, evalue, records)\n"
            ]
          },
          "metadata": {},
          "output_type": "display_data"
        },
        {
          "data": {
            "text/html": [
              "<pre style=\"white-space:pre;overflow-x:auto;line-height:normal;font-family:Menlo,'DejaVu Sans Mono',consolas,'Courier New',monospace\">  File \"/usr/local/lib/python3.10/dist-packages/IPython/core/ultratb.py\", line 382, in find_recursion\n",
              "    return len(records), 0\n",
              "</pre>\n"
            ],
            "text/plain": [
              "  File \"/usr/local/lib/python3.10/dist-packages/IPython/core/ultratb.py\", line 382, in find_recursion\n",
              "    return len(records), 0\n"
            ]
          },
          "metadata": {},
          "output_type": "display_data"
        },
        {
          "data": {
            "text/html": [
              "<pre style=\"white-space:pre;overflow-x:auto;line-height:normal;font-family:Menlo,'DejaVu Sans Mono',consolas,'Courier New',monospace\">TypeError: object of type 'NoneType' has no len()\n",
              "</pre>\n"
            ],
            "text/plain": [
              "TypeError: object of type 'NoneType' has no len()\n"
            ]
          },
          "metadata": {},
          "output_type": "display_data"
        },
        {
          "data": {
            "text/html": [
              "<pre style=\"white-space:pre;overflow-x:auto;line-height:normal;font-family:Menlo,'DejaVu Sans Mono',consolas,'Courier New',monospace\">\n",
              "During handling of the above exception, another exception occurred:\n",
              "\n",
              "</pre>\n"
            ],
            "text/plain": [
              "\n",
              "During handling of the above exception, another exception occurred:\n",
              "\n"
            ]
          },
          "metadata": {},
          "output_type": "display_data"
        },
        {
          "data": {
            "text/html": [
              "<pre style=\"white-space:pre;overflow-x:auto;line-height:normal;font-family:Menlo,'DejaVu Sans Mono',consolas,'Courier New',monospace\">Traceback (most recent call last):\n",
              "</pre>\n"
            ],
            "text/plain": [
              "Traceback (most recent call last):\n"
            ]
          },
          "metadata": {},
          "output_type": "display_data"
        },
        {
          "data": {
            "text/html": [
              "<pre style=\"white-space:pre;overflow-x:auto;line-height:normal;font-family:Menlo,'DejaVu Sans Mono',consolas,'Courier New',monospace\">  File \"/usr/local/lib/python3.10/dist-packages/IPython/core/interactiveshell.py\", line 2099, in showtraceback\n",
              "    stb = value._render_traceback_()\n",
              "</pre>\n"
            ],
            "text/plain": [
              "  File \"/usr/local/lib/python3.10/dist-packages/IPython/core/interactiveshell.py\", line 2099, in showtraceback\n",
              "    stb = value._render_traceback_()\n"
            ]
          },
          "metadata": {},
          "output_type": "display_data"
        },
        {
          "data": {
            "text/html": [
              "<pre style=\"white-space:pre;overflow-x:auto;line-height:normal;font-family:Menlo,'DejaVu Sans Mono',consolas,'Courier New',monospace\">AttributeError: 'TypeError' object has no attribute '_render_traceback_'\n",
              "</pre>\n"
            ],
            "text/plain": [
              "AttributeError: 'TypeError' object has no attribute '_render_traceback_'\n"
            ]
          },
          "metadata": {},
          "output_type": "display_data"
        },
        {
          "data": {
            "text/html": [
              "<pre style=\"white-space:pre;overflow-x:auto;line-height:normal;font-family:Menlo,'DejaVu Sans Mono',consolas,'Courier New',monospace\">\n",
              "During handling of the above exception, another exception occurred:\n",
              "\n",
              "</pre>\n"
            ],
            "text/plain": [
              "\n",
              "During handling of the above exception, another exception occurred:\n",
              "\n"
            ]
          },
          "metadata": {},
          "output_type": "display_data"
        },
        {
          "data": {
            "text/html": [
              "<pre style=\"white-space:pre;overflow-x:auto;line-height:normal;font-family:Menlo,'DejaVu Sans Mono',consolas,'Courier New',monospace\">Traceback (most recent call last):\n",
              "</pre>\n"
            ],
            "text/plain": [
              "Traceback (most recent call last):\n"
            ]
          },
          "metadata": {},
          "output_type": "display_data"
        },
        {
          "data": {
            "text/html": [
              "<pre style=\"white-space:pre;overflow-x:auto;line-height:normal;font-family:Menlo,'DejaVu Sans Mono',consolas,'Courier New',monospace\">  File \"/usr/local/lib/python3.10/dist-packages/IPython/core/interactiveshell.py\", line 3030, in _run_cell\n",
              "    return runner(coro)\n",
              "</pre>\n"
            ],
            "text/plain": [
              "  File \"/usr/local/lib/python3.10/dist-packages/IPython/core/interactiveshell.py\", line 3030, in _run_cell\n",
              "    return runner(coro)\n"
            ]
          },
          "metadata": {},
          "output_type": "display_data"
        },
        {
          "data": {
            "text/html": [
              "<pre style=\"white-space:pre;overflow-x:auto;line-height:normal;font-family:Menlo,'DejaVu Sans Mono',consolas,'Courier New',monospace\">  File \"/usr/local/lib/python3.10/dist-packages/IPython/core/async_helpers.py\", line 78, in _pseudo_sync_runner\n",
              "    coro.send(None)\n",
              "</pre>\n"
            ],
            "text/plain": [
              "  File \"/usr/local/lib/python3.10/dist-packages/IPython/core/async_helpers.py\", line 78, in _pseudo_sync_runner\n",
              "    coro.send(None)\n"
            ]
          },
          "metadata": {},
          "output_type": "display_data"
        },
        {
          "data": {
            "text/html": [
              "<pre style=\"white-space:pre;overflow-x:auto;line-height:normal;font-family:Menlo,'DejaVu Sans Mono',consolas,'Courier New',monospace\">  File \"/usr/local/lib/python3.10/dist-packages/IPython/core/interactiveshell.py\", line 3257, in run_cell_async\n",
              "    has_raised = await self.run_ast_nodes(code_ast.body, cell_name,\n",
              "</pre>\n"
            ],
            "text/plain": [
              "  File \"/usr/local/lib/python3.10/dist-packages/IPython/core/interactiveshell.py\", line 3257, in run_cell_async\n",
              "    has_raised = await self.run_ast_nodes(code_ast.body, cell_name,\n"
            ]
          },
          "metadata": {},
          "output_type": "display_data"
        },
        {
          "data": {
            "text/html": [
              "<pre style=\"white-space:pre;overflow-x:auto;line-height:normal;font-family:Menlo,'DejaVu Sans Mono',consolas,'Courier New',monospace\">  File \"/usr/local/lib/python3.10/dist-packages/IPython/core/interactiveshell.py\", line 3492, in run_ast_nodes\n",
              "    self.showtraceback()\n",
              "</pre>\n"
            ],
            "text/plain": [
              "  File \"/usr/local/lib/python3.10/dist-packages/IPython/core/interactiveshell.py\", line 3492, in run_ast_nodes\n",
              "    self.showtraceback()\n"
            ]
          },
          "metadata": {},
          "output_type": "display_data"
        },
        {
          "data": {
            "text/html": [
              "<pre style=\"white-space:pre;overflow-x:auto;line-height:normal;font-family:Menlo,'DejaVu Sans Mono',consolas,'Courier New',monospace\">  File \"/usr/local/lib/python3.10/dist-packages/IPython/core/interactiveshell.py\", line 2101, in showtraceback\n",
              "    stb = self.InteractiveTB.structured_traceback(etype,\n",
              "</pre>\n"
            ],
            "text/plain": [
              "  File \"/usr/local/lib/python3.10/dist-packages/IPython/core/interactiveshell.py\", line 2101, in showtraceback\n",
              "    stb = self.InteractiveTB.structured_traceback(etype,\n"
            ]
          },
          "metadata": {},
          "output_type": "display_data"
        },
        {
          "data": {
            "text/html": [
              "<pre style=\"white-space:pre;overflow-x:auto;line-height:normal;font-family:Menlo,'DejaVu Sans Mono',consolas,'Courier New',monospace\">  File \"/usr/local/lib/python3.10/dist-packages/IPython/core/ultratb.py\", line 1367, in structured_traceback\n",
              "    return FormattedTB.structured_traceback(\n",
              "</pre>\n"
            ],
            "text/plain": [
              "  File \"/usr/local/lib/python3.10/dist-packages/IPython/core/ultratb.py\", line 1367, in structured_traceback\n",
              "    return FormattedTB.structured_traceback(\n"
            ]
          },
          "metadata": {},
          "output_type": "display_data"
        },
        {
          "data": {
            "text/html": [
              "<pre style=\"white-space:pre;overflow-x:auto;line-height:normal;font-family:Menlo,'DejaVu Sans Mono',consolas,'Courier New',monospace\">  File \"/usr/local/lib/python3.10/dist-packages/IPython/core/ultratb.py\", line 1267, in structured_traceback\n",
              "    return VerboseTB.structured_traceback(\n",
              "</pre>\n"
            ],
            "text/plain": [
              "  File \"/usr/local/lib/python3.10/dist-packages/IPython/core/ultratb.py\", line 1267, in structured_traceback\n",
              "    return VerboseTB.structured_traceback(\n"
            ]
          },
          "metadata": {},
          "output_type": "display_data"
        },
        {
          "data": {
            "text/html": [
              "<pre style=\"white-space:pre;overflow-x:auto;line-height:normal;font-family:Menlo,'DejaVu Sans Mono',consolas,'Courier New',monospace\">  File \"/usr/local/lib/python3.10/dist-packages/IPython/core/ultratb.py\", line 1142, in structured_traceback\n",
              "    formatted_exceptions += self.format_exception_as_a_whole(etype, evalue, etb, lines_of_context,\n",
              "</pre>\n"
            ],
            "text/plain": [
              "  File \"/usr/local/lib/python3.10/dist-packages/IPython/core/ultratb.py\", line 1142, in structured_traceback\n",
              "    formatted_exceptions += self.format_exception_as_a_whole(etype, evalue, etb, lines_of_context,\n"
            ]
          },
          "metadata": {},
          "output_type": "display_data"
        },
        {
          "data": {
            "text/html": [
              "<pre style=\"white-space:pre;overflow-x:auto;line-height:normal;font-family:Menlo,'DejaVu Sans Mono',consolas,'Courier New',monospace\">  File \"/usr/local/lib/python3.10/dist-packages/IPython/core/ultratb.py\", line 1082, in format_exception_as_a_whole\n",
              "    last_unique, recursion_repeat = find_recursion(orig_etype, evalue, records)\n",
              "</pre>\n"
            ],
            "text/plain": [
              "  File \"/usr/local/lib/python3.10/dist-packages/IPython/core/ultratb.py\", line 1082, in format_exception_as_a_whole\n",
              "    last_unique, recursion_repeat = find_recursion(orig_etype, evalue, records)\n"
            ]
          },
          "metadata": {},
          "output_type": "display_data"
        },
        {
          "data": {
            "text/html": [
              "<pre style=\"white-space:pre;overflow-x:auto;line-height:normal;font-family:Menlo,'DejaVu Sans Mono',consolas,'Courier New',monospace\">  File \"/usr/local/lib/python3.10/dist-packages/IPython/core/ultratb.py\", line 382, in find_recursion\n",
              "    return len(records), 0\n",
              "</pre>\n"
            ],
            "text/plain": [
              "  File \"/usr/local/lib/python3.10/dist-packages/IPython/core/ultratb.py\", line 382, in find_recursion\n",
              "    return len(records), 0\n"
            ]
          },
          "metadata": {},
          "output_type": "display_data"
        },
        {
          "data": {
            "text/html": [
              "<pre style=\"white-space:pre;overflow-x:auto;line-height:normal;font-family:Menlo,'DejaVu Sans Mono',consolas,'Courier New',monospace\">TypeError: object of type 'NoneType' has no len()\n",
              "</pre>\n"
            ],
            "text/plain": [
              "TypeError: object of type 'NoneType' has no len()\n"
            ]
          },
          "metadata": {},
          "output_type": "display_data"
        },
        {
          "data": {
            "text/html": [
              "<pre style=\"white-space:pre;overflow-x:auto;line-height:normal;font-family:Menlo,'DejaVu Sans Mono',consolas,'Courier New',monospace\">\n",
              "During handling of the above exception, another exception occurred:\n",
              "\n",
              "</pre>\n"
            ],
            "text/plain": [
              "\n",
              "During handling of the above exception, another exception occurred:\n",
              "\n"
            ]
          },
          "metadata": {},
          "output_type": "display_data"
        },
        {
          "data": {
            "text/html": [
              "<pre style=\"white-space:pre;overflow-x:auto;line-height:normal;font-family:Menlo,'DejaVu Sans Mono',consolas,'Courier New',monospace\">Traceback (most recent call last):\n",
              "</pre>\n"
            ],
            "text/plain": [
              "Traceback (most recent call last):\n"
            ]
          },
          "metadata": {},
          "output_type": "display_data"
        },
        {
          "data": {
            "text/html": [
              "<pre style=\"white-space:pre;overflow-x:auto;line-height:normal;font-family:Menlo,'DejaVu Sans Mono',consolas,'Courier New',monospace\">  File \"/usr/local/lib/python3.10/dist-packages/IPython/core/interactiveshell.py\", line 2099, in showtraceback\n",
              "    stb = value._render_traceback_()\n",
              "</pre>\n"
            ],
            "text/plain": [
              "  File \"/usr/local/lib/python3.10/dist-packages/IPython/core/interactiveshell.py\", line 2099, in showtraceback\n",
              "    stb = value._render_traceback_()\n"
            ]
          },
          "metadata": {},
          "output_type": "display_data"
        },
        {
          "data": {
            "text/html": [
              "<pre style=\"white-space:pre;overflow-x:auto;line-height:normal;font-family:Menlo,'DejaVu Sans Mono',consolas,'Courier New',monospace\">AttributeError: 'TypeError' object has no attribute '_render_traceback_'\n",
              "</pre>\n"
            ],
            "text/plain": [
              "AttributeError: 'TypeError' object has no attribute '_render_traceback_'\n"
            ]
          },
          "metadata": {},
          "output_type": "display_data"
        },
        {
          "data": {
            "text/html": [
              "<pre style=\"white-space:pre;overflow-x:auto;line-height:normal;font-family:Menlo,'DejaVu Sans Mono',consolas,'Courier New',monospace\">\n",
              "During handling of the above exception, another exception occurred:\n",
              "\n",
              "</pre>\n"
            ],
            "text/plain": [
              "\n",
              "During handling of the above exception, another exception occurred:\n",
              "\n"
            ]
          },
          "metadata": {},
          "output_type": "display_data"
        },
        {
          "data": {
            "text/html": [
              "<pre style=\"white-space:pre;overflow-x:auto;line-height:normal;font-family:Menlo,'DejaVu Sans Mono',consolas,'Courier New',monospace\">Traceback (most recent call last):\n",
              "</pre>\n"
            ],
            "text/plain": [
              "Traceback (most recent call last):\n"
            ]
          },
          "metadata": {},
          "output_type": "display_data"
        },
        {
          "data": {
            "text/html": [
              "<pre style=\"white-space:pre;overflow-x:auto;line-height:normal;font-family:Menlo,'DejaVu Sans Mono',consolas,'Courier New',monospace\">  File \"/usr/local/lib/python3.10/dist-packages/IPython/core/ultratb.py\", line 1101, in get_records\n",
              "    return _fixed_getinnerframes(etb, number_of_lines_of_context, tb_offset)\n",
              "</pre>\n"
            ],
            "text/plain": [
              "  File \"/usr/local/lib/python3.10/dist-packages/IPython/core/ultratb.py\", line 1101, in get_records\n",
              "    return _fixed_getinnerframes(etb, number_of_lines_of_context, tb_offset)\n"
            ]
          },
          "metadata": {},
          "output_type": "display_data"
        },
        {
          "data": {
            "text/html": [
              "<pre style=\"white-space:pre;overflow-x:auto;line-height:normal;font-family:Menlo,'DejaVu Sans Mono',consolas,'Courier New',monospace\">  File \"/usr/local/lib/python3.10/dist-packages/IPython/core/ultratb.py\", line 248, in wrapped\n",
              "    return f(*args, **kwargs)\n",
              "</pre>\n"
            ],
            "text/plain": [
              "  File \"/usr/local/lib/python3.10/dist-packages/IPython/core/ultratb.py\", line 248, in wrapped\n",
              "    return f(*args, **kwargs)\n"
            ]
          },
          "metadata": {},
          "output_type": "display_data"
        },
        {
          "data": {
            "text/html": [
              "<pre style=\"white-space:pre;overflow-x:auto;line-height:normal;font-family:Menlo,'DejaVu Sans Mono',consolas,'Courier New',monospace\">  File \"/usr/local/lib/python3.10/dist-packages/IPython/core/ultratb.py\", line 281, in _fixed_getinnerframes\n",
              "    records = fix_frame_records_filenames(inspect.getinnerframes(etb, context))\n",
              "</pre>\n"
            ],
            "text/plain": [
              "  File \"/usr/local/lib/python3.10/dist-packages/IPython/core/ultratb.py\", line 281, in _fixed_getinnerframes\n",
              "    records = fix_frame_records_filenames(inspect.getinnerframes(etb, context))\n"
            ]
          },
          "metadata": {},
          "output_type": "display_data"
        },
        {
          "data": {
            "text/html": [
              "<pre style=\"white-space:pre;overflow-x:auto;line-height:normal;font-family:Menlo,'DejaVu Sans Mono',consolas,'Courier New',monospace\">  File \"/usr/lib/python3.10/inspect.py\", line 1662, in getinnerframes\n",
              "    frameinfo = (tb.tb_frame,) + getframeinfo(tb, context)\n",
              "</pre>\n"
            ],
            "text/plain": [
              "  File \"/usr/lib/python3.10/inspect.py\", line 1662, in getinnerframes\n",
              "    frameinfo = (tb.tb_frame,) + getframeinfo(tb, context)\n"
            ]
          },
          "metadata": {},
          "output_type": "display_data"
        },
        {
          "data": {
            "text/html": [
              "<pre style=\"white-space:pre;overflow-x:auto;line-height:normal;font-family:Menlo,'DejaVu Sans Mono',consolas,'Courier New',monospace\">  File \"/usr/lib/python3.10/inspect.py\", line 1620, in getframeinfo\n",
              "    filename = getsourcefile(frame) or getfile(frame)\n",
              "</pre>\n"
            ],
            "text/plain": [
              "  File \"/usr/lib/python3.10/inspect.py\", line 1620, in getframeinfo\n",
              "    filename = getsourcefile(frame) or getfile(frame)\n"
            ]
          },
          "metadata": {},
          "output_type": "display_data"
        },
        {
          "data": {
            "text/html": [
              "<pre style=\"white-space:pre;overflow-x:auto;line-height:normal;font-family:Menlo,'DejaVu Sans Mono',consolas,'Courier New',monospace\">  File \"/usr/lib/python3.10/inspect.py\", line 829, in getsourcefile\n",
              "    module = getmodule(object, filename)\n",
              "</pre>\n"
            ],
            "text/plain": [
              "  File \"/usr/lib/python3.10/inspect.py\", line 829, in getsourcefile\n",
              "    module = getmodule(object, filename)\n"
            ]
          },
          "metadata": {},
          "output_type": "display_data"
        },
        {
          "data": {
            "text/html": [
              "<pre style=\"white-space:pre;overflow-x:auto;line-height:normal;font-family:Menlo,'DejaVu Sans Mono',consolas,'Courier New',monospace\">  File \"/usr/lib/python3.10/inspect.py\", line 861, in getmodule\n",
              "    file = getabsfile(object, _filename)\n",
              "</pre>\n"
            ],
            "text/plain": [
              "  File \"/usr/lib/python3.10/inspect.py\", line 861, in getmodule\n",
              "    file = getabsfile(object, _filename)\n"
            ]
          },
          "metadata": {},
          "output_type": "display_data"
        },
        {
          "data": {
            "text/html": [
              "<pre style=\"white-space:pre;overflow-x:auto;line-height:normal;font-family:Menlo,'DejaVu Sans Mono',consolas,'Courier New',monospace\">  File \"/usr/lib/python3.10/inspect.py\", line 845, in getabsfile\n",
              "    return os.path.normcase(os.path.abspath(_filename))\n",
              "</pre>\n"
            ],
            "text/plain": [
              "  File \"/usr/lib/python3.10/inspect.py\", line 845, in getabsfile\n",
              "    return os.path.normcase(os.path.abspath(_filename))\n"
            ]
          },
          "metadata": {},
          "output_type": "display_data"
        },
        {
          "data": {
            "text/html": [
              "<pre style=\"white-space:pre;overflow-x:auto;line-height:normal;font-family:Menlo,'DejaVu Sans Mono',consolas,'Courier New',monospace\">  File \"/usr/lib/python3.10/posixpath.py\", line 384, in abspath\n",
              "    cwd = os.getcwd()\n",
              "</pre>\n"
            ],
            "text/plain": [
              "  File \"/usr/lib/python3.10/posixpath.py\", line 384, in abspath\n",
              "    cwd = os.getcwd()\n"
            ]
          },
          "metadata": {},
          "output_type": "display_data"
        },
        {
          "data": {
            "text/html": [
              "<pre style=\"white-space:pre;overflow-x:auto;line-height:normal;font-family:Menlo,'DejaVu Sans Mono',consolas,'Courier New',monospace\">OSError: [Errno 107] Transport endpoint is not connected\n",
              "</pre>\n"
            ],
            "text/plain": [
              "OSError: [Errno 107] Transport endpoint is not connected\n"
            ]
          },
          "metadata": {},
          "output_type": "display_data"
        },
        {
          "name": "stderr",
          "output_type": "stream",
          "text": [
            "INFO:root:\n",
            "Unfortunately, your original traceback can not be constructed.\n",
            "\n"
          ]
        }
      ],
      "source": [
        "from stable_baselines3 import SAC\n",
        "from stable_baselines3.common.env_util import make_vec_env\n",
        "from stable_baselines3.common.evaluation import evaluate_policy\n",
        "from stable_baselines3.common.callbacks import EvalCallback\n",
        "import math\n",
        "import torch\n",
        "total_timesteps = 1000000\n",
        "n_envs=4\n",
        "base_log_dir = \"./train_logs/\"\n",
        "dev = torch.device(\"cuda\")\n",
        "# Environments\n",
        "env_names = [ \"Ant-v2\" ]\n",
        "\n",
        "for env_name in env_names:\n",
        "    # Create the environment\n",
        "    env = make_vec_env(env_name, n_envs=n_envs)\n",
        "\n",
        "    # Linear decay\n",
        "    model_linear = SAC(\n",
        "        \"MlpPolicy\",\n",
        "        env,\n",
        "        tensorboard_log=f\"{base_log_dir}/{env_name}_auto\",  # Include environment name\n",
        "    )\n",
        "    n_training_envs = 1 # adjust eval freq depending on the number of training envs\n",
        "    # Evaluate the model every 1000 steps on 5 test episodes and save the evaluation to the logs folder\n",
        "    eval_callback = EvalCallback(env, eval_freq=10000 // n_training_envs, n_eval_episodes=50, log_path=(f\"./logs/{env_name}_auto\"))\n",
        "    model_linear.learn(total_timesteps=total_timesteps, log_interval=1, progress_bar=True,callback=eval_callback)\n",
        "    model_linear.save(f\"SAC_dyn_ent_coef_{env_name}_auto\")"
      ]
    },
    {
      "cell_type": "code",
      "execution_count": null,
      "metadata": {
        "id": "aGSOJ6b81sQz"
      },
      "outputs": [],
      "source": [
        "%pip install tensorboard\n",
        "%load_ext tensorboard\n",
        "%tensorboard --logdir /content/drive/MyDrive/DRL_Project/Part2/train_logs"
      ]
    }
  ],
  "metadata": {
    "colab": {
      "provenance": [],
      "include_colab_link": true
    },
    "kernelspec": {
      "display_name": "Python 3",
      "name": "python3"
    },
    "language_info": {
      "name": "python"
    }
  },
  "nbformat": 4,
  "nbformat_minor": 0
}